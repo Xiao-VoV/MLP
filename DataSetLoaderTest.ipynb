{
 "cells": [
  {
   "cell_type": "code",
   "execution_count": 1,
   "id": "1ddc1920-2764-4559-94a9-0563259395e7",
   "metadata": {},
   "outputs": [
    {
     "name": "stderr",
     "output_type": "stream",
     "text": [
      "/home/ubuntuxp/anaconda3/envs/MyPythonDev/lib/python3.12/site-packages/kornia/feature/lightglue.py:44: FutureWarning: `torch.cuda.amp.custom_fwd(args...)` is deprecated. Please use `torch.amp.custom_fwd(args..., device_type='cuda')` instead.\n",
      "  @torch.cuda.amp.custom_fwd(cast_inputs=torch.float32)\n"
     ]
    }
   ],
   "source": [
    "import torch\n",
    "from torch.utils.data import Dataset\n",
    "import imageio\n",
    "import numpy as np\n",
    "from kornia import create_meshgrid\n",
    "from einops import rearrange\n",
    "import cv2\n",
    "from typing import Tuple\n",
    "\n",
    "\n",
    "class ImageDataset(Dataset):\n",
    "    def __init__(self, image_path: str, img_wh: Tuple[int, int], split: str):\n",
    "        image = imageio.imread(image_path)[..., :3]/255.\n",
    "        image = cv2.resize(image, img_wh)\n",
    "        # image = np.load('images/data_2d_text.npz')['test_data'][6]/255.\n",
    "\n",
    "        self.uv = create_meshgrid(*image.shape[:2], True)[0]\n",
    "        self.rgb = torch.FloatTensor(image)\n",
    "\n",
    "        if split == 'train':\n",
    "            self.uv = self.uv[::2, ::2]\n",
    "            self.rgb = self.rgb[::2, ::2]\n",
    "        elif split == 'val':\n",
    "            self.uv = self.uv[1::2, 1::2]\n",
    "            self.rgb = self.rgb[1::2, 1::2]\n",
    "\n",
    "        self.uv = rearrange(self.uv, 'h w c -> (h w) c')\n",
    "        self.rgb = rearrange(self.rgb, 'h w c -> (h w) c')\n",
    "\n",
    "    def __len__(self):\n",
    "        return len(self.uv)\n",
    "\n",
    "    def __getitem__(self, idx: int):\n",
    "        return {\"uv\": self.uv[idx], \"rgb\": self.rgb[idx]}\n"
   ]
  },
  {
   "cell_type": "code",
   "execution_count": null,
   "id": "9ccf40f0-576d-408a-b16a-eadbcee2b27d",
   "metadata": {},
   "outputs": [],
   "source": []
  }
 ],
 "metadata": {
  "kernelspec": {
   "display_name": "Python 3 (ipykernel)",
   "language": "python",
   "name": "python3"
  },
  "language_info": {
   "codemirror_mode": {
    "name": "ipython",
    "version": 3
   },
   "file_extension": ".py",
   "mimetype": "text/x-python",
   "name": "python",
   "nbconvert_exporter": "python",
   "pygments_lexer": "ipython3",
   "version": "3.12.5"
  }
 },
 "nbformat": 4,
 "nbformat_minor": 5
}
