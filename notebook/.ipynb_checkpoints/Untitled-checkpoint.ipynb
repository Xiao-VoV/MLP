{
 "cells": [
  {
   "cell_type": "code",
   "execution_count": 3,
   "id": "daf4d0e3-0c66-497d-971f-601747e2a634",
   "metadata": {},
   "outputs": [],
   "source": [
    "import torch\n",
    "from torch import nn\n",
    "\n",
    "class MLP(nn.Module):\n",
    "    def __init__(self, n_layers=4, n_hidden_units=256):\n",
    "        super().__init__()\n",
    "        module_list = [nn.Linear(2, n_hidden_units), nn.ReLU(True)]\n",
    "        for i in range(n_layers-1):\n",
    "            if i != n_layers-2:\n",
    "                # 除了最后一层，其他层都是输入大小和输出大小一致\n",
    "                module_list += [nn.Linear(n_hidden_units,\n",
    "                                          n_hidden_units), nn.ReLU(True)]\n",
    "            else:\n",
    "                # 最后一层需要特别处理，输出大小为3\n",
    "                module_list += [nn.Linear(n_hidden_units, 3), nn.ReLU(True)]\n",
    "        self.module = nn.Sequential(*module_list)\n",
    "\n",
    "    def forward(self, x):\n",
    "        return self.module(x)\n"
   ]
  },
  {
   "cell_type": "code",
   "execution_count": 7,
   "id": "e99264a3-59a6-4cfd-a5be-ecfe9af15ed2",
   "metadata": {},
   "outputs": [],
   "source": [
    "mlp = MLP()"
   ]
  },
  {
   "cell_type": "code",
   "execution_count": 8,
   "id": "91a68176-c03d-4c36-92fc-1a32ce06a828",
   "metadata": {},
   "outputs": [
    {
     "data": {
      "text/plain": [
       "MLP(\n",
       "  (module): Sequential(\n",
       "    (0): Linear(in_features=2, out_features=256, bias=True)\n",
       "    (1): ReLU(inplace=True)\n",
       "    (2): Linear(in_features=256, out_features=256, bias=True)\n",
       "    (3): ReLU(inplace=True)\n",
       "    (4): Linear(in_features=256, out_features=256, bias=True)\n",
       "    (5): ReLU(inplace=True)\n",
       "    (6): Linear(in_features=256, out_features=3, bias=True)\n",
       "    (7): ReLU(inplace=True)\n",
       "  )\n",
       ")"
      ]
     },
     "execution_count": 8,
     "metadata": {},
     "output_type": "execute_result"
    }
   ],
   "source": [
    "mlp #输出查看模型效果"
   ]
  },
  {
   "cell_type": "code",
   "execution_count": null,
   "id": "5c647d3d-dc80-45a4-b8fd-c4b8d499137a",
   "metadata": {},
   "outputs": [],
   "source": []
  }
 ],
 "metadata": {
  "kernelspec": {
   "display_name": "Python 3 (ipykernel)",
   "language": "python",
   "name": "python3"
  },
  "language_info": {
   "codemirror_mode": {
    "name": "ipython",
    "version": 3
   },
   "file_extension": ".py",
   "mimetype": "text/x-python",
   "name": "python",
   "nbconvert_exporter": "python",
   "pygments_lexer": "ipython3",
   "version": "3.12.5"
  }
 },
 "nbformat": 4,
 "nbformat_minor": 5
}
